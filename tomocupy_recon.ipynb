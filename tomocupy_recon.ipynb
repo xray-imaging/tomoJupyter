{
 "cells": [
  {
   "cell_type": "code",
   "execution_count": 1,
   "id": "e50ebc02",
   "metadata": {},
   "outputs": [
    {
     "name": "stderr",
     "output_type": "stream",
     "text": [
      "/home/beams/TOMO/conda/miniforge3/envs/tomopyui/lib/python3.9/site-packages/cupyx/jit/_interface.py:173: FutureWarning: cupyx.jit.rawkernel is experimental. The interface can change in the future.\n",
      "  cupy._util.experimental('cupyx.jit.rawkernel')\n"
     ]
    }
   ],
   "source": [
    "import tomopy\n",
    "import dxchange\n",
    "import tomocupy\n",
    "\n",
    "import numpy as np\n",
    "import tkinter as tk\n",
    "import ipywidgets as widgets\n",
    "import matplotlib.pyplot as plt\n",
    "\n",
    "from ipywidgets import interact, interactive\n",
    "from types import SimpleNamespace\n",
    "from tkinter.filedialog import askopenfile"
   ]
  },
  {
   "cell_type": "code",
   "execution_count": 2,
   "id": "cdcb5fa1-242b-4c06-b23d-afe96054259f",
   "metadata": {},
   "outputs": [],
   "source": [
    "# Utility Functions"
   ]
  },
  {
   "cell_type": "code",
   "execution_count": 3,
   "id": "165bcc5e-4ad2-4862-b5b5-cd3c5191368d",
   "metadata": {},
   "outputs": [],
   "source": [
    "def read_filename():\n",
    "    window = tk.Tk()\n",
    "    window.wm_attributes('-topmost', 1)\n",
    "    window.withdraw()\n",
    "\n",
    "    file = askopenfile(mode ='r', filetypes =[('Python Files', '*.h5')])\n",
    "    window.destroy()\n",
    "    return file.name"
   ]
  },
  {
   "cell_type": "markdown",
   "id": "66148d7f",
   "metadata": {},
   "source": [
    "# Load data"
   ]
  },
  {
   "cell_type": "code",
   "execution_count": 4,
   "id": "511d9581",
   "metadata": {},
   "outputs": [],
   "source": [
    "# !wget -nc https://anl.box.com/shared/static/or8vlzdu07d8zwxvk50ihwghq39ide0o.npz\n",
    "# ask to select raw data file\n",
    "# file_name = read_filename()\n",
    "fname = '/data/2022-12/Luxi_173.h5'\n"
   ]
  },
  {
   "cell_type": "markdown",
   "id": "7bea98cb",
   "metadata": {},
   "source": [
    "# Read data, dark and flat fields, projection angles, metadata"
   ]
  },
  {
   "cell_type": "code",
   "execution_count": 5,
   "id": "8c5de4e2",
   "metadata": {},
   "outputs": [],
   "source": [
    "# data = np.random.rand(100,256,256) #3d-array with 100 frames 256x256\n",
    "data, flat, dark, theta = dxchange.read_aps_tomoscan_hdf5(fname)#, sino=(100, 400))\n",
    "tt, meta_dict = dxchange.read_hdf_meta(fname)\n",
    "# print(meta_dict)"
   ]
  },
  {
   "cell_type": "code",
   "execution_count": 6,
   "id": "596e9047",
   "metadata": {},
   "outputs": [
    {
     "data": {
      "text/plain": [
       "(1800, 852, 2800)"
      ]
     },
     "execution_count": 6,
     "metadata": {},
     "output_type": "execute_result"
    }
   ],
   "source": [
    "data.shape "
   ]
  },
  {
   "cell_type": "markdown",
   "id": "8a9542cf",
   "metadata": {},
   "source": [
    "# Plot projections"
   ]
  },
  {
   "cell_type": "code",
   "execution_count": 7,
   "id": "76c73b36",
   "metadata": {
    "scrolled": true
   },
   "outputs": [
    {
     "data": {
      "application/vnd.jupyter.widget-view+json": {
       "model_id": "1d04b383d71d4253a4f29f65ad74c8ea",
       "version_major": 2,
       "version_minor": 0
      },
      "text/plain": [
       "interactive(children=(IntSlider(value=900, description='angle', max=1799), Output()), _dom_classes=('widget-in…"
      ]
     },
     "metadata": {},
     "output_type": "display_data"
    },
    {
     "data": {
      "text/plain": [
       "<function __main__.plot_projections(angle=1)>"
      ]
     },
     "execution_count": 7,
     "metadata": {},
     "output_type": "execute_result"
    }
   ],
   "source": [
    "def plot_projections(angle=1):\n",
    "    plt.imshow(data[angle,:],cmap='gray')\n",
    "    \n",
    "interact(plot_projections, angle = widgets.IntSlider(name='Projection', value=data.shape[0]//2,\n",
    "                                               min=0,\n",
    "                                               max=data.shape[0]-1,\n",
    "                                               step=1))"
   ]
  },
  {
   "cell_type": "code",
   "execution_count": 8,
   "id": "2a6d0ae0",
   "metadata": {},
   "outputs": [],
   "source": [
    "# load in a dictionary the default values defined in the tomocupy config.py file\n",
    "params_dict = {}\n",
    "for section in tomocupy.config.RECON_STEPS_PARAMS:\n",
    "    for key, value in tomocupy.config.SECTIONS[section].items():\n",
    "        key = key.replace('-', '_')\n",
    "        params_dict[key] = value['default']\n",
    "\n",
    "# create a parameter object identical to the one passed using the CLI\n",
    "args = SimpleNamespace(**params_dict)\n",
    "\n",
    "# set only the parameters that are different from the default\n",
    "args.reconstruction_type          = 'try'\n",
    "args.file_name                    = fname\n",
    "args.rotation_axis_auto           = 'auto'\n",
    "args.rotation_axis_method         = 'sift' \n",
    "args.dtype                        = 'float32'\n",
    "args.out_path_name                = '/data/tmpfdc/' \n",
    "# args.out_path_name                = '/home/beams/TOMO/tmpfdc/recs/' \n",
    "args.clear_folder                 = True\n",
    "args.fbp_filter                   = 'shepp' \n",
    "args.retrieve_phase_method        = None \n",
    "args.remove_stripe_method         = 'vo'\n",
    "args.pixel_size                   = meta_dict['measurement_instrument_detection_system_objective_resolution'][0] * 1e-4\n",
    "args.propagation_distance         = meta_dict['measurement_instrument_detector_motor_stack_setup_z'][0]\n",
    "args.energy                       = meta_dict['measurement_instrument_monochromator_energy'][0]\n",
    "args.retrieve_phase_alpha         = 0.0008\n",
    "args.rotation_axis_sift_threshold = 0.5\n",
    "args.rotation_axis                = -1\n",
    "args.minus_log                    = True"
   ]
  },
  {
   "cell_type": "code",
   "execution_count": 9,
   "id": "b00b82ad-2bb8-44c1-af51-6eeeb6d140df",
   "metadata": {},
   "outputs": [
    {
     "name": "stdout",
     "output_type": "stream",
     "text": [
      "set rotaion  axis 1408.1002197265625\n"
     ]
    }
   ],
   "source": [
    "clrotthandle = tomocupy.FindCenter(args)\n",
    "args.rotation_axis = clrotthandle.find_center()*2**args.binning\n",
    "print(f'set rotaion  axis {args.rotation_axis}')"
   ]
  },
  {
   "cell_type": "code",
   "execution_count": 10,
   "id": "2026641a-85b0-4ad4-8bd7-4750f0ae01c6",
   "metadata": {},
   "outputs": [
    {
     "name": "stderr",
     "output_type": "stream",
     "text": [
      "Using dark fields from /data/2022-12/Luxi_173.h5\n",
      "Using flat fields from /data/2022-12/Luxi_173.h5\n"
     ]
    },
    {
     "name": "stdout",
     "output_type": "stream",
     "text": [
      "queue size 000 |  |████████████████████████████████████████| 100.0% \n"
     ]
    }
   ],
   "source": [
    "clpthandle = tomocupy.GPURec(args)\n",
    "clpthandle.recon_try()"
   ]
  },
  {
   "cell_type": "code",
   "execution_count": 11,
   "id": "633c79ba-8505-42f0-b6b7-38561711ba5d",
   "metadata": {},
   "outputs": [],
   "source": [
    "# center_search = dxchange.read_tiff_stack(args.out_path_name+ 'recon_slice0425_center1734.16.tiff', in)"
   ]
  },
  {
   "cell_type": "code",
   "execution_count": 12,
   "id": "a29ee629-16ec-4a7c-8d39-3fd05a0b5e61",
   "metadata": {},
   "outputs": [
    {
     "name": "stdout",
     "output_type": "stream",
     "text": [
      "/data/tmpfdc/recon_slice0425_center1358.60.tiff\n"
     ]
    }
   ],
   "source": [
    "print(args.out_path_name + 'recon_slice0425_center1358.60.tiff')\n"
   ]
  },
  {
   "cell_type": "code",
   "execution_count": 14,
   "id": "107b5891-d3bd-4710-ab09-8d8274685575",
   "metadata": {},
   "outputs": [],
   "source": [
    "# Select the sinogram range to reconstruct.\n",
    "from os import listdir\n",
    "from os.path import isfile, join\n",
    "onlyfiles = [f for f in listdir(args.out_path_name) if isfile(join(args.out_path_name, f))]"
   ]
  },
  {
   "cell_type": "code",
   "execution_count": 15,
   "id": "23022342-9885-49a7-a9fb-dde25f4528e4",
   "metadata": {},
   "outputs": [],
   "source": [
    "def init_arr_from_stack(fname, number_of_files):\n",
    "    \"\"\"\n",
    "    Initialize numpy array from files in a folder.\n",
    "    \"\"\"\n",
    "    _arr = dxchange.read_tiff(fname)\n",
    "    size = (number_of_files, _arr.shape[0], _arr.shape[1])\n",
    "    return np.empty(size, dtype=_arr.dtype)\n",
    "\n",
    "arr = init_arr_from_stack(args.out_path_name+onlyfiles[0], len(onlyfiles))\n",
    "\n",
    "for m, fname in enumerate(onlyfiles):\n",
    "    arr[m] = dxchange.read_tiff(args.out_path_name+fname)\n",
    "\n",
    "# for file in onlyfiles:\n",
    "#     print(args.out_path_name+file)"
   ]
  },
  {
   "cell_type": "code",
   "execution_count": 81,
   "id": "31134799-f77a-4d2f-a0e4-195009757aca",
   "metadata": {},
   "outputs": [
    {
     "data": {
      "application/vnd.jupyter.widget-view+json": {
       "model_id": "ae74833c06f34d13a73e028d2f50dab1",
       "version_major": 2,
       "version_minor": 0
      },
      "text/plain": [
       "interactive(children=(IntSlider(value=100, description='center', max=199), Output()), _dom_classes=('widget-in…"
      ]
     },
     "metadata": {},
     "output_type": "display_data"
    },
    {
     "name": "stdout",
     "output_type": "stream",
     "text": [
      "100\n"
     ]
    }
   ],
   "source": [
    "def plot_center(center=1):\n",
    "    plt.imshow(arr[center,:],cmap='flag')\n",
    "    return center\n",
    "# for palette options see https://matplotlib.org/stable/users/explain/colors/colormaps.html\n",
    "a = interactive(plot_center, center = widgets.IntSlider(name='Center', value=arr.shape[0]//2,\n",
    "                                               min=0,\n",
    "                                               max=arr.shape[0]-1,\n",
    "                                               step=1))\n",
    "display(a)\n"
   ]
  },
  {
   "cell_type": "code",
   "execution_count": 82,
   "id": "e9015068-c274-4216-9427-f2a3cfac3d8e",
   "metadata": {},
   "outputs": [
    {
     "name": "stdout",
     "output_type": "stream",
     "text": [
      "159\n"
     ]
    }
   ],
   "source": [
    "print(a.result)"
   ]
  },
  {
   "cell_type": "code",
   "execution_count": null,
   "id": "515b9226-995b-492d-82f2-acf378b49711",
   "metadata": {},
   "outputs": [],
   "source": []
  }
 ],
 "metadata": {
  "kernelspec": {
   "display_name": "Python 3 (ipykernel)",
   "language": "python",
   "name": "python3"
  },
  "language_info": {
   "codemirror_mode": {
    "name": "ipython",
    "version": 3
   },
   "file_extension": ".py",
   "mimetype": "text/x-python",
   "name": "python",
   "nbconvert_exporter": "python",
   "pygments_lexer": "ipython3",
   "version": "3.9.18"
  }
 },
 "nbformat": 4,
 "nbformat_minor": 5
}
