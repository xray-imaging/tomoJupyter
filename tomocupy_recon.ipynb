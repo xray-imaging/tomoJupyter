{
 "cells": [
  {
   "cell_type": "code",
   "execution_count": 1,
   "id": "e50ebc02",
   "metadata": {},
   "outputs": [
    {
     "name": "stderr",
     "output_type": "stream",
     "text": [
      "/home/beams/TOMO/conda/miniforge3/envs/tomopyui/lib/python3.9/site-packages/cupyx/jit/_interface.py:173: FutureWarning: cupyx.jit.rawkernel is experimental. The interface can change in the future.\n",
      "  cupy._util.experimental('cupyx.jit.rawkernel')\n"
     ]
    }
   ],
   "source": [
    "import tomopy\n",
    "import dxchange\n",
    "import tomocupy\n",
    "\n",
    "import numpy as np\n",
    "import tkinter as tk\n",
    "import ipywidgets as widgets\n",
    "import matplotlib.pyplot as plt\n",
    "\n",
    "from ipywidgets import interact\n",
    "from types import SimpleNamespace\n",
    "from tkinter.filedialog import askopenfile"
   ]
  },
  {
   "cell_type": "code",
   "execution_count": 2,
   "id": "cdcb5fa1-242b-4c06-b23d-afe96054259f",
   "metadata": {},
   "outputs": [],
   "source": [
    "# Utility Functions"
   ]
  },
  {
   "cell_type": "code",
   "execution_count": 3,
   "id": "165bcc5e-4ad2-4862-b5b5-cd3c5191368d",
   "metadata": {},
   "outputs": [],
   "source": [
    "def read_filename():\n",
    "    window = tk.Tk()\n",
    "    window.wm_attributes('-topmost', 1)\n",
    "    window.withdraw()\n",
    "\n",
    "    file = askopenfile(mode ='r', filetypes =[('Python Files', '*.h5')])\n",
    "    window.destroy()\n",
    "    return file.name"
   ]
  },
  {
   "cell_type": "markdown",
   "id": "66148d7f",
   "metadata": {},
   "source": [
    "# Load data"
   ]
  },
  {
   "cell_type": "code",
   "execution_count": 4,
   "id": "511d9581",
   "metadata": {},
   "outputs": [],
   "source": [
    "# !wget -nc https://anl.box.com/shared/static/or8vlzdu07d8zwxvk50ihwghq39ide0o.npz\n",
    "# file_name = read_filename()\n",
    "# fname = '/data/2022-12/Luxi_173.h5'\n",
    "fname = '/home/beams/TOMO/tmpfdc/Luxi_173.h5'\n",
    "# dark_file_name = file_name\n",
    "# flat_file_name = file_name"
   ]
  },
  {
   "cell_type": "markdown",
   "id": "7bea98cb",
   "metadata": {},
   "source": [
    "# Read data, dark and flat fields, projection angles, metadata"
   ]
  },
  {
   "cell_type": "code",
   "execution_count": 5,
   "id": "8c5de4e2",
   "metadata": {},
   "outputs": [],
   "source": [
    "# data = np.random.rand(100,256,256) #3d-array with 100 frames 256x256\n",
    "data, flat, dark, theta = dxchange.read_aps_tomoscan_hdf5(fname)#, sino=(100, 400))\n",
    "tt, meta_dict = dxchange.read_hdf_meta(fname)\n",
    "# print(meta_dict)"
   ]
  },
  {
   "cell_type": "code",
   "execution_count": 6,
   "id": "596e9047",
   "metadata": {},
   "outputs": [
    {
     "data": {
      "text/plain": [
       "(1800, 852, 2800)"
      ]
     },
     "execution_count": 6,
     "metadata": {},
     "output_type": "execute_result"
    }
   ],
   "source": [
    "data.shape "
   ]
  },
  {
   "cell_type": "markdown",
   "id": "8a9542cf",
   "metadata": {},
   "source": [
    "# Plot projections"
   ]
  },
  {
   "cell_type": "code",
   "execution_count": 7,
   "id": "76c73b36",
   "metadata": {},
   "outputs": [
    {
     "data": {
      "application/vnd.jupyter.widget-view+json": {
       "model_id": "fcf92022a82044958e133dc8dbbbba50",
       "version_major": 2,
       "version_minor": 0
      },
      "text/plain": [
       "interactive(children=(IntSlider(value=900, description='angle', max=1799), Output()), _dom_classes=('widget-in…"
      ]
     },
     "metadata": {},
     "output_type": "display_data"
    },
    {
     "data": {
      "text/plain": [
       "<function __main__.plot_projections(angle=1)>"
      ]
     },
     "execution_count": 7,
     "metadata": {},
     "output_type": "execute_result"
    }
   ],
   "source": [
    "def plot_projections(angle=1):\n",
    "    plt.imshow(data[angle,:],cmap='gray')\n",
    "interact(plot_projections, angle = widgets.IntSlider(name='Projection', value=data.shape[0]//2,\n",
    "                                               min=0,\n",
    "                                               max=data.shape[0]-1,\n",
    "                                               step=1))"
   ]
  },
  {
   "cell_type": "code",
   "execution_count": 8,
   "id": "2a6d0ae0",
   "metadata": {},
   "outputs": [],
   "source": [
    "params_dict = {}\n",
    "for section in tomocupy.config.RECON_STEPS_PARAMS:\n",
    "    for key, value in tomocupy.config.SECTIONS[section].items():\n",
    "        key = key.replace('-', '_')\n",
    "        params_dict[key] = value['default']\n",
    "\n",
    "args = SimpleNamespace(**params_dict)\n",
    "\n",
    "args.reconstruction_type          = 'try'\n",
    "args.file_name                    = fname\n",
    "args.rotation_axis_auto           = 'auto'\n",
    "args.rotation_axis_method         = 'sift' \n",
    "args.dtype                        = 'float16'\n",
    "# args.out_path_name                = '/data/tmpfdc' \n",
    "args.out_path_name                = '/home/beams/TOMO/tmpfdc/recs/' \n",
    "args.clear_folder                 = True\n",
    "args.fbp_filter                   = 'shepp' \n",
    "args.retrieve_phase_method        = None \n",
    "args.remove_stripe_method         = 'vo'\n",
    "args.pixel_size                   = meta_dict['measurement_instrument_detection_system_objective_resolution'][0] * 1e-4\n",
    "args.propagation_distance         = meta_dict['measurement_instrument_detector_motor_stack_setup_z'][0]\n",
    "args.energy                       = meta_dict['measurement_instrument_monochromator_energy'][0]\n",
    "args.retrieve_phase_alpha         = 0.0008\n",
    "args.rotation_axis_sift_threshold = 0.5\n",
    "args.rotation_axis                = -1\n",
    "args.minus_log                    = True"
   ]
  },
  {
   "cell_type": "code",
   "execution_count": 9,
   "id": "b00b82ad-2bb8-44c1-af51-6eeeb6d140df",
   "metadata": {},
   "outputs": [
    {
     "name": "stderr",
     "output_type": "stream",
     "text": [
      "Crop data to the power of 2 sizes to work with 16bit precision, output size in x dimension 2048\n"
     ]
    },
    {
     "name": "stdout",
     "output_type": "stream",
     "text": [
      "set rotaion  axis 1407.6629638671875\n"
     ]
    }
   ],
   "source": [
    "clrotthandle = tomocupy.FindCenter(args)\n",
    "args.rotation_axis = clrotthandle.find_center()*2**args.binning\n",
    "print(f'set rotaion  axis {args.rotation_axis}')"
   ]
  },
  {
   "cell_type": "code",
   "execution_count": 10,
   "id": "2026641a-85b0-4ad4-8bd7-4750f0ae01c6",
   "metadata": {},
   "outputs": [
    {
     "name": "stderr",
     "output_type": "stream",
     "text": [
      "Using dark fields from /home/beams/TOMO/tmpfdc/Luxi_173.h5\n",
      "Using flat fields from /home/beams/TOMO/tmpfdc/Luxi_173.h5\n",
      "Crop data to the power of 2 sizes to work with 16bit precision, output size in x dimension 2048\n"
     ]
    },
    {
     "name": "stdout",
     "output_type": "stream",
     "text": [
      "queue size 000 |  |████████████████████████████████████████| 100.0% \n"
     ]
    }
   ],
   "source": [
    "clpthandle = tomocupy.GPURec(args)\n",
    "clpthandle.recon_try()"
   ]
  },
  {
   "cell_type": "code",
   "execution_count": null,
   "id": "633c79ba-8505-42f0-b6b7-38561711ba5d",
   "metadata": {},
   "outputs": [],
   "source": [
    "# center_search = dxchange.read_tiff_stack(args.out_path_name+ 'recon_slice0425_center1734.16.tiff', in)"
   ]
  },
  {
   "cell_type": "code",
   "execution_count": null,
   "id": "a29ee629-16ec-4a7c-8d39-3fd05a0b5e61",
   "metadata": {},
   "outputs": [],
   "source": []
  }
 ],
 "metadata": {
  "kernelspec": {
   "display_name": "Python 3 (ipykernel)",
   "language": "python",
   "name": "python3"
  },
  "language_info": {
   "codemirror_mode": {
    "name": "ipython",
    "version": 3
   },
   "file_extension": ".py",
   "mimetype": "text/x-python",
   "name": "python",
   "nbconvert_exporter": "python",
   "pygments_lexer": "ipython3",
   "version": "3.9.18"
  }
 },
 "nbformat": 4,
 "nbformat_minor": 5
}
